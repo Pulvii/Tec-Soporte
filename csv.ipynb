{
  "nbformat": 4,
  "nbformat_minor": 0,
  "metadata": {
    "colab": {
      "provenance": [],
      "authorship_tag": "ABX9TyOmxdUsE+hCitkvSSELA5oZ",
      "include_colab_link": true
    },
    "kernelspec": {
      "name": "python3",
      "display_name": "Python 3"
    },
    "language_info": {
      "name": "python"
    }
  },
  "cells": [
    {
      "cell_type": "markdown",
      "metadata": {
        "id": "view-in-github",
        "colab_type": "text"
      },
      "source": [
        "<a href=\"https://colab.research.google.com/github/Pulvii/Tec-Soporte/blob/main/csv.ipynb\" target=\"_parent\"><img src=\"https://colab.research.google.com/assets/colab-badge.svg\" alt=\"Open In Colab\"/></a>"
      ]
    },
    {
      "cell_type": "code",
      "execution_count": 3,
      "metadata": {
        "colab": {
          "base_uri": "https://localhost:8080/"
        },
        "id": "hILhMwRK4D1Q",
        "outputId": "043ea88b-4bce-4461-9f28-77013d831973"
      },
      "outputs": [
        {
          "output_type": "stream",
          "name": "stdout",
          "text": [
            "    RegionCode RegionName CountryCode CountryName  Year   Sex     AgeGroup  \\\n",
            "0           EU     Europe         ALB     Albania  1992  Male   0-14 years   \n",
            "1           EU     Europe         ALB     Albania  1992  Male   0-14 years   \n",
            "2           EU     Europe         ALB     Albania  1992  Male   0-14 years   \n",
            "3           EU     Europe         ALB     Albania  1992  Male   0-14 years   \n",
            "4           EU     Europe         ALB     Albania  1992  Male  15-24 years   \n",
            "..         ...        ...         ...         ...   ...   ...          ...   \n",
            "160         EU     Europe         ALB     Albania  1996  Male   0-14 years   \n",
            "161         EU     Europe         ALB     Albania  1996  Male   0-14 years   \n",
            "162         EU     Europe         ALB     Albania  1996  Male   0-14 years   \n",
            "163         EU     Europe         ALB     Albania  1996  Male   0-14 years   \n",
            "164         EU     Europe         ALB     Albania  1996  Male  15-24 years   \n",
            "\n",
            "           Generation SuicideCount CauseSpecificDeathPercentage  \\\n",
            "0    Generation Alpha            0                          0.0   \n",
            "1    Generation Alpha            0                          0.0   \n",
            "2    Generation Alpha            0                          0.0   \n",
            "3    Generation Alpha            0                          0.0   \n",
            "4        Generation Z            5                   3.40136054   \n",
            "..                ...          ...                          ...   \n",
            "160  Generation Alpha            0                          0.0   \n",
            "161  Generation Alpha            0                          0.0   \n",
            "162  Generation Alpha            0                          0.0   \n",
            "163  Generation Alpha            2                   1.96078431   \n",
            "164      Generation Z            5                   3.37837838   \n",
            "\n",
            "    DeathRatePer100K Population           GDP GDPPerCapita  \\\n",
            "0                0.0    3247039   652174990.8  200.8522198   \n",
            "1                0.0    3247039   652174990.8  200.8522198   \n",
            "2                0.0    3247039   652174990.8  200.8522198   \n",
            "3                0.0    3247039   652174990.8  200.8522198   \n",
            "4         3.53107345    3247039   652174990.8  200.8522198   \n",
            "..               ...        ...           ...          ...   \n",
            "160              0.0    3168033  3199640815.0  1009.977111   \n",
            "161              0.0    3168033  3199640815.0  1009.977111   \n",
            "162              0.0    3168033  3199640815.0  1009.977111   \n",
            "163       1.09349371    3168033  3199640815.0  1009.977111   \n",
            "164       3.69822485    3168033  3199640815.0  1009.977111   \n",
            "\n",
            "    GrossNationalIncome GNIPerCapita InflationRate EmploymentPopulationRatio  \n",
            "0           906184212.3         1740   226.0054213                    45.315  \n",
            "1           906184212.3         1740   226.0054213                    45.315  \n",
            "2           906184212.3         1740   226.0054213                    45.315  \n",
            "3           906184212.3         1740   226.0054213                    45.315  \n",
            "4           906184212.3         1740   226.0054213                    45.315  \n",
            "..                  ...          ...           ...                       ...  \n",
            "160        2823912223.0         3050   12.72547781                    53.039  \n",
            "161        2823912223.0         3050   12.72547781                    53.039  \n",
            "162        2823912223.0         3050   12.72547781                    53.039  \n",
            "163        2823912223.0         3050   12.72547781                    53.039  \n",
            "164        2823912223.0         3050   12.72547781                    53.039  \n",
            "\n",
            "[157 rows x 18 columns]\n",
            "   altura  edad genero\n",
            "0     1.4    28      M\n",
            "1     NaN    23      F\n",
            "2     NaN    35      M\n",
            "3     NaN    31      F\n"
          ]
        }
      ],
      "source": [
        "import pandas as pd   #importamos la libreria pandas para poder leer el csv\n",
        "import numpy as np\n",
        "\n",
        "\n",
        "def arreglar_columnas(columnas):\n",
        "  for i in range(len(columnas)):\n",
        "      columnas[i] = columnas[i].replace(\" \",\"\")\n",
        "  return columnas\n",
        "\n",
        "def resolver_espacios(valor): #Funcion que elimina el espacio de delante y si el valor es nan o vacio, le pone None para que el dropna lo saque\n",
        "    valor = str(valor)\n",
        "    if valor[0] == ' ':\n",
        "        valor = valor[1:]\n",
        "    if valor == '':\n",
        "        valor = np.nan\n",
        "    if valor == 'nan':\n",
        "        valor = np.nan\n",
        "    return valor\n",
        "\n",
        "\n",
        "csv = pd.read_csv(\"./sample_data/suicide_rates_1990-2022.csv\")\n",
        "csvColumnas = list(csv.columns)\n",
        "\n",
        "csv.columns = arreglar_columnas(csvColumnas) # se le aplica la funcion a la lista de columnas\n",
        "\n",
        "csv = csv.applymap(resolver_espacios)\n",
        "\n",
        "# csv[\"Altura\"] = csv[\"Altura\"].apply(resolver_altura)\n",
        "\n",
        "# csv = csv.fillna(\"-\")\n",
        "\n",
        "csv.dropna(inplace=True) # elimina las filas que contengan valores vacios\n",
        "# csv.dropna(how=\"all\") # elimina las filas si todos los valores son nulos\n",
        "\n",
        "# csv.to_csv('./nuevo.csv')\n",
        "print(csv)\n",
        "\n",
        "\n",
        "\n",
        "# dataframe\n",
        "dataframe = {'altura': [1.4, np.nan, np.nan, np.nan],\n",
        "        'edad': [28, 23, 35, 31],\n",
        "        'genero': ['M', 'F', 'M', 'F']\n",
        "        }\n",
        "df = pd.DataFrame(dataframe)\n",
        "print(df)\n"
      ]
    }
  ]
}