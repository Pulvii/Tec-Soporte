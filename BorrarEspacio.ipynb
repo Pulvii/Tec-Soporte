{
  "nbformat": 4,
  "nbformat_minor": 0,
  "metadata": {
    "colab": {
      "provenance": [],
      "authorship_tag": "ABX9TyOlV1s7AcVH+c/0Ing629Cy",
      "include_colab_link": true
    },
    "kernelspec": {
      "name": "python3",
      "display_name": "Python 3"
    },
    "language_info": {
      "name": "python"
    }
  },
  "cells": [
    {
      "cell_type": "markdown",
      "metadata": {
        "id": "view-in-github",
        "colab_type": "text"
      },
      "source": [
        "<a href=\"https://colab.research.google.com/github/Pulvii/Tec-Soporte/blob/main/BorrarEspacio.ipynb\" target=\"_parent\"><img src=\"https://colab.research.google.com/assets/colab-badge.svg\" alt=\"Open In Colab\"/></a>"
      ]
    },
    {
      "cell_type": "code",
      "execution_count": null,
      "metadata": {
        "colab": {
          "base_uri": "https://localhost:8080/"
        },
        "id": "oOTKCtfJy76M",
        "outputId": "95beb7c4-7ba4-429b-c80a-946b152ecdce"
      },
      "outputs": [
        {
          "output_type": "stream",
          "name": "stdout",
          "text": [
            "Escribi una palabra, para terminar apreta Enteraaa\n",
            "Escribi una palabra, para terminar apreta Enteraa\n",
            "Escribi una palabra, para terminar apreta Enterdsa \n",
            "Escribi una palabra, para terminar apreta Enterdsa sda dss\n",
            "Escribi una palabra, para terminar apreta Enter\n",
            "['aaa', 'aa', 'dsa', 'dsasdadss']\n"
          ]
        }
      ],
      "source": [
        "\n",
        "def borrarEspacios(list1):\n",
        "    list2 = []\n",
        "    for x in list1:\n",
        "        list2.append(x.replace(\" \", \"\"))\n",
        "    return list2\n",
        "\n",
        "list1 = []\n",
        "while True:\n",
        "    element = input(\"Escribi una palabra, para terminar apreta Enter\")\n",
        "    if element == \"\":\n",
        "        break\n",
        "    list1.append(element)\n",
        "\n",
        "print(borrarEspacios(list1))\n"
      ]
    }
  ]
}